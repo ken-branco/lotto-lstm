{
 "cells": [
  {
   "cell_type": "code",
   "execution_count": 3,
   "metadata": {
    "id": "cqI3K4Z1_9y_"
   },
   "outputs": [],
   "source": [
    "import numpy as np\n",
    "import pandas as pd\n",
    "from sklearn.preprocessing import StandardScaler"
   ]
  },
  {
   "cell_type": "code",
   "execution_count": 4,
   "metadata": {
    "id": "hcU8I8YcA5-E"
   },
   "outputs": [],
   "source": [
    "df = pd.read_csv(\"IsraeliLottery.csv\")"
   ]
  },
  {
   "cell_type": "code",
   "execution_count": 5,
   "metadata": {
    "colab": {
     "base_uri": "https://localhost:8080/",
     "height": 206
    },
    "id": "gDHVObV5A_Tt",
    "outputId": "7f14415d-6f4d-4b71-c897-dfdc8eaae78b"
   },
   "outputs": [
    {
     "data": {
      "text/html": [
       "<div>\n",
       "<style scoped>\n",
       "    .dataframe tbody tr th:only-of-type {\n",
       "        vertical-align: middle;\n",
       "    }\n",
       "\n",
       "    .dataframe tbody tr th {\n",
       "        vertical-align: top;\n",
       "    }\n",
       "\n",
       "    .dataframe thead th {\n",
       "        text-align: right;\n",
       "    }\n",
       "</style>\n",
       "<table border=\"1\" class=\"dataframe\">\n",
       "  <thead>\n",
       "    <tr style=\"text-align: right;\">\n",
       "      <th></th>\n",
       "      <th>Game</th>\n",
       "      <th>Date</th>\n",
       "      <th>A</th>\n",
       "      <th>B</th>\n",
       "      <th>C</th>\n",
       "      <th>D</th>\n",
       "      <th>E</th>\n",
       "      <th>F</th>\n",
       "    </tr>\n",
       "  </thead>\n",
       "  <tbody>\n",
       "    <tr>\n",
       "      <th>0</th>\n",
       "      <td>6801</td>\n",
       "      <td>03/09/1968</td>\n",
       "      <td>3</td>\n",
       "      <td>14</td>\n",
       "      <td>18</td>\n",
       "      <td>22</td>\n",
       "      <td>25</td>\n",
       "      <td>33</td>\n",
       "    </tr>\n",
       "    <tr>\n",
       "      <th>1</th>\n",
       "      <td>6802</td>\n",
       "      <td>10/09/1968</td>\n",
       "      <td>13</td>\n",
       "      <td>20</td>\n",
       "      <td>23</td>\n",
       "      <td>29</td>\n",
       "      <td>32</td>\n",
       "      <td>34</td>\n",
       "    </tr>\n",
       "    <tr>\n",
       "      <th>2</th>\n",
       "      <td>6803</td>\n",
       "      <td>17/09/1968</td>\n",
       "      <td>8</td>\n",
       "      <td>12</td>\n",
       "      <td>26</td>\n",
       "      <td>27</td>\n",
       "      <td>34</td>\n",
       "      <td>38</td>\n",
       "    </tr>\n",
       "    <tr>\n",
       "      <th>3</th>\n",
       "      <td>6804</td>\n",
       "      <td>24/09/1968</td>\n",
       "      <td>1</td>\n",
       "      <td>14</td>\n",
       "      <td>17</td>\n",
       "      <td>26</td>\n",
       "      <td>35</td>\n",
       "      <td>39</td>\n",
       "    </tr>\n",
       "    <tr>\n",
       "      <th>4</th>\n",
       "      <td>6805</td>\n",
       "      <td>01/10/1968</td>\n",
       "      <td>1</td>\n",
       "      <td>7</td>\n",
       "      <td>8</td>\n",
       "      <td>9</td>\n",
       "      <td>11</td>\n",
       "      <td>30</td>\n",
       "    </tr>\n",
       "  </tbody>\n",
       "</table>\n",
       "</div>"
      ],
      "text/plain": [
       "   Game        Date   A   B   C   D   E   F\n",
       "0  6801  03/09/1968   3  14  18  22  25  33\n",
       "1  6802  10/09/1968  13  20  23  29  32  34\n",
       "2  6803  17/09/1968   8  12  26  27  34  38\n",
       "3  6804  24/09/1968   1  14  17  26  35  39\n",
       "4  6805  01/10/1968   1   7   8   9  11  30"
      ]
     },
     "execution_count": 5,
     "metadata": {},
     "output_type": "execute_result"
    }
   ],
   "source": [
    "df.head()"
   ]
  },
  {
   "cell_type": "code",
   "execution_count": 6,
   "metadata": {
    "colab": {
     "base_uri": "https://localhost:8080/",
     "height": 206
    },
    "id": "HjWDe-HI_9zD",
    "outputId": "bb7e77ed-cc1a-40de-e4b6-0335d2c6ee3a"
   },
   "outputs": [
    {
     "data": {
      "text/html": [
       "<div>\n",
       "<style scoped>\n",
       "    .dataframe tbody tr th:only-of-type {\n",
       "        vertical-align: middle;\n",
       "    }\n",
       "\n",
       "    .dataframe tbody tr th {\n",
       "        vertical-align: top;\n",
       "    }\n",
       "\n",
       "    .dataframe thead th {\n",
       "        text-align: right;\n",
       "    }\n",
       "</style>\n",
       "<table border=\"1\" class=\"dataframe\">\n",
       "  <thead>\n",
       "    <tr style=\"text-align: right;\">\n",
       "      <th></th>\n",
       "      <th>Game</th>\n",
       "      <th>Date</th>\n",
       "      <th>A</th>\n",
       "      <th>B</th>\n",
       "      <th>C</th>\n",
       "      <th>D</th>\n",
       "      <th>E</th>\n",
       "      <th>F</th>\n",
       "    </tr>\n",
       "  </thead>\n",
       "  <tbody>\n",
       "    <tr>\n",
       "      <th>4042</th>\n",
       "      <td>3467</td>\n",
       "      <td>14/05/2022</td>\n",
       "      <td>9</td>\n",
       "      <td>16</td>\n",
       "      <td>17</td>\n",
       "      <td>21</td>\n",
       "      <td>26</td>\n",
       "      <td>29</td>\n",
       "    </tr>\n",
       "    <tr>\n",
       "      <th>4043</th>\n",
       "      <td>3468</td>\n",
       "      <td>17/05/2022</td>\n",
       "      <td>1</td>\n",
       "      <td>4</td>\n",
       "      <td>5</td>\n",
       "      <td>24</td>\n",
       "      <td>31</td>\n",
       "      <td>32</td>\n",
       "    </tr>\n",
       "    <tr>\n",
       "      <th>4044</th>\n",
       "      <td>3469</td>\n",
       "      <td>19/05/2022</td>\n",
       "      <td>1</td>\n",
       "      <td>8</td>\n",
       "      <td>18</td>\n",
       "      <td>25</td>\n",
       "      <td>29</td>\n",
       "      <td>30</td>\n",
       "    </tr>\n",
       "    <tr>\n",
       "      <th>4045</th>\n",
       "      <td>3470</td>\n",
       "      <td>21/05/2022</td>\n",
       "      <td>3</td>\n",
       "      <td>4</td>\n",
       "      <td>5</td>\n",
       "      <td>15</td>\n",
       "      <td>24</td>\n",
       "      <td>33</td>\n",
       "    </tr>\n",
       "    <tr>\n",
       "      <th>4046</th>\n",
       "      <td>3471</td>\n",
       "      <td>24/05/2022</td>\n",
       "      <td>6</td>\n",
       "      <td>10</td>\n",
       "      <td>13</td>\n",
       "      <td>20</td>\n",
       "      <td>23</td>\n",
       "      <td>35</td>\n",
       "    </tr>\n",
       "  </tbody>\n",
       "</table>\n",
       "</div>"
      ],
      "text/plain": [
       "      Game        Date  A   B   C   D   E   F\n",
       "4042  3467  14/05/2022  9  16  17  21  26  29\n",
       "4043  3468  17/05/2022  1   4   5  24  31  32\n",
       "4044  3469  19/05/2022  1   8  18  25  29  30\n",
       "4045  3470  21/05/2022  3   4   5  15  24  33\n",
       "4046  3471  24/05/2022  6  10  13  20  23  35"
      ]
     },
     "execution_count": 6,
     "metadata": {},
     "output_type": "execute_result"
    }
   ],
   "source": [
    "df.tail()"
   ]
  },
  {
   "cell_type": "code",
   "execution_count": 7,
   "metadata": {
    "colab": {
     "base_uri": "https://localhost:8080/"
    },
    "id": "-LixHJ-m_9zE",
    "outputId": "f84e8735-1f32-4f5b-9426-c7e95cfa2018"
   },
   "outputs": [
    {
     "name": "stdout",
     "output_type": "stream",
     "text": [
      "<class 'pandas.core.frame.DataFrame'>\n",
      "RangeIndex: 4047 entries, 0 to 4046\n",
      "Data columns (total 8 columns):\n",
      " #   Column  Non-Null Count  Dtype \n",
      "---  ------  --------------  ----- \n",
      " 0   Game    4047 non-null   int64 \n",
      " 1   Date    4047 non-null   object\n",
      " 2   A       4047 non-null   int64 \n",
      " 3   B       4047 non-null   int64 \n",
      " 4   C       4047 non-null   int64 \n",
      " 5   D       4047 non-null   int64 \n",
      " 6   E       4047 non-null   int64 \n",
      " 7   F       4047 non-null   int64 \n",
      "dtypes: int64(7), object(1)\n",
      "memory usage: 253.1+ KB\n"
     ]
    }
   ],
   "source": [
    "df.info()"
   ]
  },
  {
   "cell_type": "code",
   "execution_count": 8,
   "metadata": {
    "colab": {
     "base_uri": "https://localhost:8080/",
     "height": 300
    },
    "id": "nDx9p9qZ_9zF",
    "outputId": "69b3d6b8-b3ac-4444-f8ac-ddaa4e592abb"
   },
   "outputs": [
    {
     "data": {
      "text/html": [
       "<div>\n",
       "<style scoped>\n",
       "    .dataframe tbody tr th:only-of-type {\n",
       "        vertical-align: middle;\n",
       "    }\n",
       "\n",
       "    .dataframe tbody tr th {\n",
       "        vertical-align: top;\n",
       "    }\n",
       "\n",
       "    .dataframe thead th {\n",
       "        text-align: right;\n",
       "    }\n",
       "</style>\n",
       "<table border=\"1\" class=\"dataframe\">\n",
       "  <thead>\n",
       "    <tr style=\"text-align: right;\">\n",
       "      <th></th>\n",
       "      <th>Game</th>\n",
       "      <th>A</th>\n",
       "      <th>B</th>\n",
       "      <th>C</th>\n",
       "      <th>D</th>\n",
       "      <th>E</th>\n",
       "      <th>F</th>\n",
       "    </tr>\n",
       "  </thead>\n",
       "  <tbody>\n",
       "    <tr>\n",
       "      <th>count</th>\n",
       "      <td>4047.000000</td>\n",
       "      <td>4047.000000</td>\n",
       "      <td>4047.000000</td>\n",
       "      <td>4047.000000</td>\n",
       "      <td>4047.000000</td>\n",
       "      <td>4047.000000</td>\n",
       "      <td>4047.000000</td>\n",
       "    </tr>\n",
       "    <tr>\n",
       "      <th>mean</th>\n",
       "      <td>4695.399061</td>\n",
       "      <td>5.698542</td>\n",
       "      <td>11.428713</td>\n",
       "      <td>17.128737</td>\n",
       "      <td>22.948357</td>\n",
       "      <td>28.795404</td>\n",
       "      <td>34.635285</td>\n",
       "    </tr>\n",
       "    <tr>\n",
       "      <th>std</th>\n",
       "      <td>3106.179305</td>\n",
       "      <td>4.635402</td>\n",
       "      <td>5.988067</td>\n",
       "      <td>6.698026</td>\n",
       "      <td>6.820599</td>\n",
       "      <td>6.616360</td>\n",
       "      <td>5.910514</td>\n",
       "    </tr>\n",
       "    <tr>\n",
       "      <th>min</th>\n",
       "      <td>1035.000000</td>\n",
       "      <td>1.000000</td>\n",
       "      <td>2.000000</td>\n",
       "      <td>3.000000</td>\n",
       "      <td>4.000000</td>\n",
       "      <td>7.000000</td>\n",
       "      <td>13.000000</td>\n",
       "    </tr>\n",
       "    <tr>\n",
       "      <th>25%</th>\n",
       "      <td>2046.500000</td>\n",
       "      <td>2.000000</td>\n",
       "      <td>7.000000</td>\n",
       "      <td>12.000000</td>\n",
       "      <td>18.000000</td>\n",
       "      <td>24.000000</td>\n",
       "      <td>31.000000</td>\n",
       "    </tr>\n",
       "    <tr>\n",
       "      <th>50%</th>\n",
       "      <td>3058.000000</td>\n",
       "      <td>4.000000</td>\n",
       "      <td>10.000000</td>\n",
       "      <td>17.000000</td>\n",
       "      <td>23.000000</td>\n",
       "      <td>29.000000</td>\n",
       "      <td>35.000000</td>\n",
       "    </tr>\n",
       "    <tr>\n",
       "      <th>75%</th>\n",
       "      <td>8011.500000</td>\n",
       "      <td>8.000000</td>\n",
       "      <td>15.000000</td>\n",
       "      <td>22.000000</td>\n",
       "      <td>28.000000</td>\n",
       "      <td>33.000000</td>\n",
       "      <td>38.000000</td>\n",
       "    </tr>\n",
       "    <tr>\n",
       "      <th>max</th>\n",
       "      <td>9934.000000</td>\n",
       "      <td>31.000000</td>\n",
       "      <td>37.000000</td>\n",
       "      <td>44.000000</td>\n",
       "      <td>46.000000</td>\n",
       "      <td>48.000000</td>\n",
       "      <td>49.000000</td>\n",
       "    </tr>\n",
       "  </tbody>\n",
       "</table>\n",
       "</div>"
      ],
      "text/plain": [
       "              Game            A            B            C            D  \\\n",
       "count  4047.000000  4047.000000  4047.000000  4047.000000  4047.000000   \n",
       "mean   4695.399061     5.698542    11.428713    17.128737    22.948357   \n",
       "std    3106.179305     4.635402     5.988067     6.698026     6.820599   \n",
       "min    1035.000000     1.000000     2.000000     3.000000     4.000000   \n",
       "25%    2046.500000     2.000000     7.000000    12.000000    18.000000   \n",
       "50%    3058.000000     4.000000    10.000000    17.000000    23.000000   \n",
       "75%    8011.500000     8.000000    15.000000    22.000000    28.000000   \n",
       "max    9934.000000    31.000000    37.000000    44.000000    46.000000   \n",
       "\n",
       "                 E            F  \n",
       "count  4047.000000  4047.000000  \n",
       "mean     28.795404    34.635285  \n",
       "std       6.616360     5.910514  \n",
       "min       7.000000    13.000000  \n",
       "25%      24.000000    31.000000  \n",
       "50%      29.000000    35.000000  \n",
       "75%      33.000000    38.000000  \n",
       "max      48.000000    49.000000  "
      ]
     },
     "execution_count": 8,
     "metadata": {},
     "output_type": "execute_result"
    }
   ],
   "source": [
    "df.describe()"
   ]
  },
  {
   "cell_type": "code",
   "execution_count": 9,
   "metadata": {
    "id": "wXq7yEJi_9zF"
   },
   "outputs": [],
   "source": [
    "df.drop(['Game', 'Date'], axis=1, inplace=True)"
   ]
  },
  {
   "cell_type": "code",
   "execution_count": 10,
   "metadata": {
    "colab": {
     "base_uri": "https://localhost:8080/",
     "height": 206
    },
    "id": "kHj-RrWP_9zG",
    "outputId": "83f8082e-47cf-443e-97ba-05a077e7363e",
    "scrolled": true
   },
   "outputs": [
    {
     "data": {
      "text/html": [
       "<div>\n",
       "<style scoped>\n",
       "    .dataframe tbody tr th:only-of-type {\n",
       "        vertical-align: middle;\n",
       "    }\n",
       "\n",
       "    .dataframe tbody tr th {\n",
       "        vertical-align: top;\n",
       "    }\n",
       "\n",
       "    .dataframe thead th {\n",
       "        text-align: right;\n",
       "    }\n",
       "</style>\n",
       "<table border=\"1\" class=\"dataframe\">\n",
       "  <thead>\n",
       "    <tr style=\"text-align: right;\">\n",
       "      <th></th>\n",
       "      <th>A</th>\n",
       "      <th>B</th>\n",
       "      <th>C</th>\n",
       "      <th>D</th>\n",
       "      <th>E</th>\n",
       "      <th>F</th>\n",
       "    </tr>\n",
       "  </thead>\n",
       "  <tbody>\n",
       "    <tr>\n",
       "      <th>0</th>\n",
       "      <td>3</td>\n",
       "      <td>14</td>\n",
       "      <td>18</td>\n",
       "      <td>22</td>\n",
       "      <td>25</td>\n",
       "      <td>33</td>\n",
       "    </tr>\n",
       "    <tr>\n",
       "      <th>1</th>\n",
       "      <td>13</td>\n",
       "      <td>20</td>\n",
       "      <td>23</td>\n",
       "      <td>29</td>\n",
       "      <td>32</td>\n",
       "      <td>34</td>\n",
       "    </tr>\n",
       "    <tr>\n",
       "      <th>2</th>\n",
       "      <td>8</td>\n",
       "      <td>12</td>\n",
       "      <td>26</td>\n",
       "      <td>27</td>\n",
       "      <td>34</td>\n",
       "      <td>38</td>\n",
       "    </tr>\n",
       "    <tr>\n",
       "      <th>3</th>\n",
       "      <td>1</td>\n",
       "      <td>14</td>\n",
       "      <td>17</td>\n",
       "      <td>26</td>\n",
       "      <td>35</td>\n",
       "      <td>39</td>\n",
       "    </tr>\n",
       "    <tr>\n",
       "      <th>4</th>\n",
       "      <td>1</td>\n",
       "      <td>7</td>\n",
       "      <td>8</td>\n",
       "      <td>9</td>\n",
       "      <td>11</td>\n",
       "      <td>30</td>\n",
       "    </tr>\n",
       "  </tbody>\n",
       "</table>\n",
       "</div>"
      ],
      "text/plain": [
       "    A   B   C   D   E   F\n",
       "0   3  14  18  22  25  33\n",
       "1  13  20  23  29  32  34\n",
       "2   8  12  26  27  34  38\n",
       "3   1  14  17  26  35  39\n",
       "4   1   7   8   9  11  30"
      ]
     },
     "execution_count": 10,
     "metadata": {},
     "output_type": "execute_result"
    }
   ],
   "source": [
    "df.head()"
   ]
  },
  {
   "cell_type": "code",
   "execution_count": 11,
   "metadata": {
    "id": "IFxUoUUa_9zG"
   },
   "outputs": [],
   "source": [
    "scaler = StandardScaler().fit(df.values)\n",
    "transformed_dataset = scaler.transform(df.values)\n",
    "transformed_df = pd.DataFrame(data=transformed_dataset, index=df.index)"
   ]
  },
  {
   "cell_type": "code",
   "execution_count": 12,
   "metadata": {
    "colab": {
     "base_uri": "https://localhost:8080/",
     "height": 206
    },
    "id": "0nuARcYc_9zH",
    "outputId": "20b1833d-8e7b-4213-898f-231e3806b399"
   },
   "outputs": [
    {
     "data": {
      "text/html": [
       "<div>\n",
       "<style scoped>\n",
       "    .dataframe tbody tr th:only-of-type {\n",
       "        vertical-align: middle;\n",
       "    }\n",
       "\n",
       "    .dataframe tbody tr th {\n",
       "        vertical-align: top;\n",
       "    }\n",
       "\n",
       "    .dataframe thead th {\n",
       "        text-align: right;\n",
       "    }\n",
       "</style>\n",
       "<table border=\"1\" class=\"dataframe\">\n",
       "  <thead>\n",
       "    <tr style=\"text-align: right;\">\n",
       "      <th></th>\n",
       "      <th>0</th>\n",
       "      <th>1</th>\n",
       "      <th>2</th>\n",
       "      <th>3</th>\n",
       "      <th>4</th>\n",
       "      <th>5</th>\n",
       "    </tr>\n",
       "  </thead>\n",
       "  <tbody>\n",
       "    <tr>\n",
       "      <th>0</th>\n",
       "      <td>-0.582231</td>\n",
       "      <td>0.429455</td>\n",
       "      <td>0.130094</td>\n",
       "      <td>-0.139060</td>\n",
       "      <td>-0.573710</td>\n",
       "      <td>-0.276708</td>\n",
       "    </tr>\n",
       "    <tr>\n",
       "      <th>1</th>\n",
       "      <td>1.575345</td>\n",
       "      <td>1.431572</td>\n",
       "      <td>0.876674</td>\n",
       "      <td>0.887369</td>\n",
       "      <td>0.484404</td>\n",
       "      <td>-0.107497</td>\n",
       "    </tr>\n",
       "    <tr>\n",
       "      <th>2</th>\n",
       "      <td>0.496557</td>\n",
       "      <td>0.095416</td>\n",
       "      <td>1.324623</td>\n",
       "      <td>0.594104</td>\n",
       "      <td>0.786722</td>\n",
       "      <td>0.569346</td>\n",
       "    </tr>\n",
       "    <tr>\n",
       "      <th>3</th>\n",
       "      <td>-1.013746</td>\n",
       "      <td>0.429455</td>\n",
       "      <td>-0.019223</td>\n",
       "      <td>0.447471</td>\n",
       "      <td>0.937882</td>\n",
       "      <td>0.738557</td>\n",
       "    </tr>\n",
       "    <tr>\n",
       "      <th>4</th>\n",
       "      <td>-1.013746</td>\n",
       "      <td>-0.739681</td>\n",
       "      <td>-1.363068</td>\n",
       "      <td>-2.045287</td>\n",
       "      <td>-2.689939</td>\n",
       "      <td>-0.784341</td>\n",
       "    </tr>\n",
       "  </tbody>\n",
       "</table>\n",
       "</div>"
      ],
      "text/plain": [
       "          0         1         2         3         4         5\n",
       "0 -0.582231  0.429455  0.130094 -0.139060 -0.573710 -0.276708\n",
       "1  1.575345  1.431572  0.876674  0.887369  0.484404 -0.107497\n",
       "2  0.496557  0.095416  1.324623  0.594104  0.786722  0.569346\n",
       "3 -1.013746  0.429455 -0.019223  0.447471  0.937882  0.738557\n",
       "4 -1.013746 -0.739681 -1.363068 -2.045287 -2.689939 -0.784341"
      ]
     },
     "execution_count": 12,
     "metadata": {},
     "output_type": "execute_result"
    }
   ],
   "source": [
    "transformed_df.head()"
   ]
  },
  {
   "cell_type": "code",
   "execution_count": 13,
   "metadata": {
    "colab": {
     "base_uri": "https://localhost:8080/"
    },
    "id": "VO8P7MGA_9zI",
    "outputId": "08789794-fe76-4766-a4f6-74bf04a0cc88"
   },
   "outputs": [
    {
     "data": {
      "text/plain": [
       "4047"
      ]
     },
     "execution_count": 13,
     "metadata": {},
     "output_type": "execute_result"
    }
   ],
   "source": [
    "# All our games\n",
    "number_of_rows = df.values.shape[0]\n",
    "number_of_rows"
   ]
  },
  {
   "cell_type": "code",
   "execution_count": 14,
   "metadata": {
    "colab": {
     "base_uri": "https://localhost:8080/"
    },
    "id": "w0Sy4qwI_9zI",
    "outputId": "1f0e74c8-9f13-4f49-cf3b-9ea32fd5cb08"
   },
   "outputs": [
    {
     "data": {
      "text/plain": [
       "7"
      ]
     },
     "execution_count": 14,
     "metadata": {},
     "output_type": "execute_result"
    }
   ],
   "source": [
    "# Amount of games we need to take into consideration for prediction\n",
    "window_length = 7\n",
    "window_length "
   ]
  },
  {
   "cell_type": "code",
   "execution_count": 15,
   "metadata": {
    "colab": {
     "base_uri": "https://localhost:8080/"
    },
    "id": "rtJz-WDK_9zJ",
    "outputId": "6b96573f-58f0-4ce6-c9dc-d059ff4e1548"
   },
   "outputs": [
    {
     "data": {
      "text/plain": [
       "6"
      ]
     },
     "execution_count": 15,
     "metadata": {},
     "output_type": "execute_result"
    }
   ],
   "source": [
    "# Balls counts\n",
    "number_of_features = df.values.shape[1]\n",
    "number_of_features"
   ]
  },
  {
   "cell_type": "code",
   "execution_count": 19,
   "metadata": {
    "colab": {
     "base_uri": "https://localhost:8080/"
    },
    "id": "vOGYjTw6_9zJ",
    "outputId": "3455f8e2-e98a-4933-bdea-3a90a9a8fb60"
   },
   "outputs": [
    {
     "data": {
      "text/plain": [
       "array([[[0.000e+000, 2.470e-323, 7.905e-323, 8.893e-323, 1.038e-322,\n",
       "         1.186e-322],\n",
       "        [1.334e-322, 1.482e-322, 1.087e-322, 1.334e-322, 1.877e-322,\n",
       "         1.976e-322],\n",
       "        [2.124e-322, 2.273e-322, 2.421e-322, 2.569e-322, 2.717e-322,\n",
       "         2.964e-322],\n",
       "        ...,\n",
       "        [4.397e-322, 4.644e-322, 5.188e-322, 5.287e-322, 5.435e-322,\n",
       "         5.583e-322],\n",
       "        [5.731e-322, 5.879e-322, 6.028e-322, 6.275e-322, 6.818e-322,\n",
       "         6.917e-322],\n",
       "        [7.065e-322, 7.213e-322, 7.362e-322, 7.510e-322, 7.658e-322,\n",
       "         7.905e-322]],\n",
       "\n",
       "       [[8.449e-322, 8.547e-322, 8.646e-322, 8.745e-322, 8.844e-322,\n",
       "         8.992e-322],\n",
       "        [9.140e-322, 9.387e-322, 9.931e-322, 1.003e-321, 1.013e-321,\n",
       "         1.028e-321],\n",
       "        [1.042e-321, 1.057e-321, 1.072e-321, 1.097e-321, 1.151e-321,\n",
       "         1.161e-321],\n",
       "        ...,\n",
       "        [1.309e-321, 1.319e-321, 1.334e-321, 1.349e-321, 1.364e-321,\n",
       "         1.378e-321],\n",
       "        [1.393e-321, 1.418e-321, 1.472e-321, 1.482e-321, 1.492e-321,\n",
       "         1.507e-321],\n",
       "        [1.522e-321, 1.537e-321, 1.551e-321, 1.576e-321, 1.630e-321,\n",
       "         1.640e-321]],\n",
       "\n",
       "       [[1.650e-321, 1.660e-321, 1.670e-321, 1.685e-321, 1.700e-321,\n",
       "         1.724e-321],\n",
       "        [1.779e-321, 1.789e-321, 1.798e-321, 1.813e-321, 1.828e-321,\n",
       "         1.843e-321],\n",
       "        [1.858e-321, 1.882e-321, 1.937e-321, 1.947e-321, 1.956e-321,\n",
       "         1.971e-321],\n",
       "        ...,\n",
       "        [2.120e-321, 2.134e-321, 2.149e-321, 2.164e-321, 2.179e-321,\n",
       "         2.204e-321],\n",
       "        [2.258e-321, 2.268e-321, 2.278e-321, 2.288e-321, 2.302e-321,\n",
       "         2.317e-321],\n",
       "        [2.332e-321, 2.357e-321, 2.411e-321, 2.421e-321, 2.436e-321,\n",
       "         2.451e-321]],\n",
       "\n",
       "       ...,\n",
       "\n",
       "       [[0.000e+000, 0.000e+000, 0.000e+000, 0.000e+000, 0.000e+000,\n",
       "         0.000e+000],\n",
       "        [0.000e+000, 0.000e+000, 0.000e+000, 0.000e+000, 0.000e+000,\n",
       "         0.000e+000],\n",
       "        [0.000e+000, 0.000e+000, 0.000e+000, 0.000e+000, 0.000e+000,\n",
       "         0.000e+000],\n",
       "        ...,\n",
       "        [0.000e+000, 0.000e+000, 0.000e+000, 0.000e+000, 0.000e+000,\n",
       "         0.000e+000],\n",
       "        [0.000e+000, 0.000e+000, 0.000e+000, 0.000e+000, 0.000e+000,\n",
       "         0.000e+000],\n",
       "        [0.000e+000, 0.000e+000, 0.000e+000, 0.000e+000, 0.000e+000,\n",
       "         0.000e+000]],\n",
       "\n",
       "       [[0.000e+000, 0.000e+000, 0.000e+000, 0.000e+000, 0.000e+000,\n",
       "         0.000e+000],\n",
       "        [0.000e+000, 0.000e+000, 0.000e+000, 0.000e+000, 0.000e+000,\n",
       "         0.000e+000],\n",
       "        [0.000e+000, 0.000e+000, 0.000e+000, 0.000e+000, 0.000e+000,\n",
       "         0.000e+000],\n",
       "        ...,\n",
       "        [0.000e+000, 0.000e+000, 0.000e+000, 0.000e+000, 0.000e+000,\n",
       "         0.000e+000],\n",
       "        [0.000e+000, 0.000e+000, 0.000e+000, 0.000e+000, 0.000e+000,\n",
       "         0.000e+000],\n",
       "        [0.000e+000, 0.000e+000, 0.000e+000, 0.000e+000, 0.000e+000,\n",
       "         0.000e+000]],\n",
       "\n",
       "       [[0.000e+000, 0.000e+000, 0.000e+000, 0.000e+000, 0.000e+000,\n",
       "         0.000e+000],\n",
       "        [0.000e+000, 0.000e+000, 0.000e+000, 0.000e+000, 0.000e+000,\n",
       "         0.000e+000],\n",
       "        [0.000e+000, 0.000e+000, 0.000e+000, 0.000e+000, 0.000e+000,\n",
       "         0.000e+000],\n",
       "        ...,\n",
       "        [0.000e+000, 0.000e+000, 0.000e+000, 0.000e+000, 0.000e+000,\n",
       "         0.000e+000],\n",
       "        [0.000e+000, 0.000e+000, 0.000e+000, 0.000e+000, 0.000e+000,\n",
       "         0.000e+000],\n",
       "        [0.000e+000, 0.000e+000, 0.000e+000, 0.000e+000, 0.000e+000,\n",
       "         0.000e+000]]])"
      ]
     },
     "execution_count": 19,
     "metadata": {},
     "output_type": "execute_result"
    }
   ],
   "source": [
    "X = np.empty([ number_of_rows - window_length, window_length, number_of_features], dtype=float)\n",
    "X"
   ]
  },
  {
   "cell_type": "code",
   "execution_count": 18,
   "metadata": {
    "colab": {
     "base_uri": "https://localhost:8080/"
    },
    "id": "-AEtpsnR_9zK",
    "outputId": "cb6755c8-26bd-4dc7-efe6-4b463e68bc86"
   },
   "outputs": [
    {
     "data": {
      "text/plain": [
       "array([[ 3., 13.,  8.,  1.,  1.,  7.],\n",
       "       [ 1.,  2.,  3.,  2.,  5.,  2.],\n",
       "       [ 3.,  5.,  9., 11., 12.,  3.],\n",
       "       ...,\n",
       "       [33., 33., 33., 31., 37., 37.],\n",
       "       [23., 34., 31., 33., 34., 36.],\n",
       "       [36., 37., 29., 34., 36., 34.]])"
      ]
     },
     "execution_count": 18,
     "metadata": {},
     "output_type": "execute_result"
    }
   ],
   "source": [
    "y = np.empty([ number_of_rows - window_length, number_of_features], dtype=float)\n",
    "y"
   ]
  },
  {
   "cell_type": "code",
   "execution_count": 20,
   "metadata": {
    "id": "W8Od3t8__9zK"
   },
   "outputs": [],
   "source": [
    "for i in range(0, number_of_rows-window_length):\n",
    "    X[i] = transformed_df.iloc[i : i+window_length, 0 : number_of_features]\n",
    "    y[i] = transformed_df.iloc[i+window_length : i+window_length+1, 0 : number_of_features]"
   ]
  },
  {
   "cell_type": "code",
   "execution_count": 20,
   "metadata": {
    "colab": {
     "base_uri": "https://localhost:8080/"
    },
    "id": "tQ2DX4qm_9zL",
    "outputId": "cc440ed7-439d-47f8-d26f-96cdbe7637e6"
   },
   "outputs": [
    {
     "data": {
      "text/plain": [
       "(4040, 7, 6)"
      ]
     },
     "execution_count": 20,
     "metadata": {},
     "output_type": "execute_result"
    }
   ],
   "source": [
    "X.shape"
   ]
  },
  {
   "cell_type": "code",
   "execution_count": 21,
   "metadata": {
    "colab": {
     "base_uri": "https://localhost:8080/"
    },
    "id": "-e1Ialkb_9zL",
    "outputId": "817356b4-dbcd-4793-acad-5cf121928600"
   },
   "outputs": [
    {
     "data": {
      "text/plain": [
       "(4040, 6)"
      ]
     },
     "execution_count": 21,
     "metadata": {},
     "output_type": "execute_result"
    }
   ],
   "source": [
    "y.shape"
   ]
  },
  {
   "cell_type": "code",
   "execution_count": 22,
   "metadata": {
    "colab": {
     "base_uri": "https://localhost:8080/"
    },
    "id": "Pyo51t3s_9zL",
    "outputId": "ee4bfc2a-2d27-4096-813d-ee315937928f"
   },
   "outputs": [
    {
     "data": {
      "text/plain": [
       "array([[-0.58223113,  0.429455  ,  0.1300936 , -0.13906023, -0.57371015,\n",
       "        -0.27670816],\n",
       "       [ 1.57534546,  1.43157169,  0.87667445,  0.88736948,  0.4844041 ,\n",
       "        -0.10749723],\n",
       "       [ 0.49655716,  0.0954161 ,  1.32462296,  0.59410385,  0.78672246,\n",
       "         0.56934648],\n",
       "       [-1.01374645,  0.429455  , -0.01922257,  0.44747103,  0.93788164,\n",
       "         0.7385574 ],\n",
       "       [-1.01374645, -0.73968114, -1.36306809, -2.04528682, -2.68993865,\n",
       "        -0.78434094],\n",
       "       [ 0.2807995 , -0.40564224, -1.06443575, -0.8722243 , -0.87602851,\n",
       "        -0.10749723],\n",
       "       [-1.01374645, -0.90670059,  0.87667445,  0.88736948,  0.63556328,\n",
       "        -0.10749723]])"
      ]
     },
     "execution_count": 22,
     "metadata": {},
     "output_type": "execute_result"
    }
   ],
   "source": [
    "X[0]"
   ]
  },
  {
   "cell_type": "code",
   "execution_count": 23,
   "metadata": {
    "colab": {
     "base_uri": "https://localhost:8080/"
    },
    "id": "Ow6h9xj2_9zL",
    "outputId": "6cde5dde-3f28-4044-e4be-3c334593fd0d"
   },
   "outputs": [
    {
     "data": {
      "text/plain": [
       "array([[ 1.57534546,  1.43157169,  0.87667445,  0.88736948,  0.4844041 ,\n",
       "        -0.10749723],\n",
       "       [ 0.49655716,  0.0954161 ,  1.32462296,  0.59410385,  0.78672246,\n",
       "         0.56934648],\n",
       "       [-1.01374645,  0.429455  , -0.01922257,  0.44747103,  0.93788164,\n",
       "         0.7385574 ],\n",
       "       [-1.01374645, -0.73968114, -1.36306809, -2.04528682, -2.68993865,\n",
       "        -0.78434094],\n",
       "       [ 0.2807995 , -0.40564224, -1.06443575, -0.8722243 , -0.87602851,\n",
       "        -0.10749723],\n",
       "       [-1.01374645, -0.90670059,  0.87667445,  0.88736948,  0.63556328,\n",
       "        -0.10749723],\n",
       "       [-0.79798879,  0.26243555,  0.42872594,  0.1542054 , -0.57371015,\n",
       "        -1.29197372]])"
      ]
     },
     "execution_count": 23,
     "metadata": {},
     "output_type": "execute_result"
    }
   ],
   "source": [
    "X[1]"
   ]
  },
  {
   "cell_type": "code",
   "execution_count": 24,
   "metadata": {
    "colab": {
     "base_uri": "https://localhost:8080/"
    },
    "id": "yAnAQgdw_9zM",
    "outputId": "6683611b-15d8-4763-c39c-3433e1e73c22"
   },
   "outputs": [
    {
     "data": {
      "text/plain": [
       "array([-0.79798879,  0.26243555,  0.42872594,  0.1542054 , -0.57371015,\n",
       "       -1.29197372])"
      ]
     },
     "execution_count": 24,
     "metadata": {},
     "output_type": "execute_result"
    }
   ],
   "source": [
    "y[0]"
   ]
  },
  {
   "cell_type": "code",
   "execution_count": 25,
   "metadata": {
    "colab": {
     "base_uri": "https://localhost:8080/"
    },
    "id": "rOx-WcYz_9zM",
    "outputId": "a2e50142-d71a-40fc-892c-5ff120641bd5"
   },
   "outputs": [
    {
     "data": {
      "text/plain": [
       "array([-0.58223113, -0.40564224,  1.32462296,  1.32726792,  0.78672246,\n",
       "        0.23092462])"
      ]
     },
     "execution_count": 25,
     "metadata": {},
     "output_type": "execute_result"
    }
   ],
   "source": [
    "y[1]"
   ]
  },
  {
   "cell_type": "code",
   "execution_count": 26,
   "metadata": {
    "id": "maIGJp8t_9zM"
   },
   "outputs": [],
   "source": [
    "# Recurrent Neural Netowrk (RNN) with Long Short Term Memory (LSTM)\n",
    "# Importing the Keras libraries and packages\n",
    "from keras.models import Sequential\n",
    "from keras.layers import LSTM, Dense, Bidirectional, Dropout\n",
    "batch_size = 100"
   ]
  },
  {
   "cell_type": "code",
   "execution_count": 27,
   "metadata": {
    "id": "b9d815xa_9zN"
   },
   "outputs": [],
   "source": [
    "# Initialising the RNN\n",
    "model = Sequential()\n",
    "# Adding the input layer and the LSTM layer\n",
    "model.add(Bidirectional(LSTM(240,\n",
    "                        input_shape = (window_length, number_of_features),\n",
    "                        return_sequences = True)))\n",
    "# Adding a first Dropout layer\n",
    "model.add(Dropout(0.2))\n",
    "# Adding a second LSTM layer\n",
    "model.add(Bidirectional(LSTM(240,\n",
    "                        input_shape = (window_length, number_of_features),\n",
    "                        return_sequences = True)))\n",
    "# Adding a second Dropout layer\n",
    "model.add(Dropout(0.2))\n",
    "# Adding a third LSTM layer\n",
    "model.add(Bidirectional(LSTM(240,\n",
    "                        input_shape = (window_length, number_of_features),\n",
    "                        return_sequences = True)))\n",
    "# Adding a fourth LSTM layer\n",
    "model.add(Bidirectional(LSTM(240,\n",
    "                        input_shape = (window_length, number_of_features),\n",
    "                        return_sequences = False)))\n",
    "# Adding a fourth Dropout layer\n",
    "model.add(Dropout(0.2))\n",
    "# Adding the first output layer\n",
    "model.add(Dense(59))\n",
    "# Adding the last output layer\n",
    "model.add(Dense(number_of_features))"
   ]
  },
  {
   "cell_type": "code",
   "execution_count": 36,
   "metadata": {
    "id": "bE0G1oQc_9zN"
   },
   "outputs": [],
   "source": [
    "from tensorflow import keras\n",
    "from tensorflow.keras.optimizers import Adam\n",
    "model.compile(optimizer=Adam(learning_rate=0.0001), loss ='mse', metrics=['accuracy'])"
   ]
  },
  {
   "cell_type": "code",
   "execution_count": 38,
   "metadata": {
    "colab": {
     "base_uri": "https://localhost:8080/"
    },
    "id": "p0XPuMCI_9zN",
    "outputId": "0a50b873-da17-4e85-c9e4-1a60f1ae4695"
   },
   "outputs": [
    {
     "name": "stdout",
     "output_type": "stream",
     "text": [
      "Epoch 1/300\n",
      "41/41 - 12s - loss: 0.0094 - accuracy: 0.9245 - 12s/epoch - 285ms/step\n",
      "Epoch 2/300\n",
      "41/41 - 1s - loss: 0.0081 - accuracy: 0.9339 - 637ms/epoch - 16ms/step\n",
      "Epoch 3/300\n",
      "41/41 - 1s - loss: 0.0077 - accuracy: 0.9354 - 633ms/epoch - 15ms/step\n",
      "Epoch 4/300\n",
      "41/41 - 1s - loss: 0.0072 - accuracy: 0.9401 - 629ms/epoch - 15ms/step\n",
      "Epoch 5/300\n",
      "41/41 - 1s - loss: 0.0070 - accuracy: 0.9342 - 644ms/epoch - 16ms/step\n",
      "Epoch 6/300\n",
      "41/41 - 1s - loss: 0.0066 - accuracy: 0.9351 - 652ms/epoch - 16ms/step\n",
      "Epoch 7/300\n",
      "41/41 - 1s - loss: 0.0067 - accuracy: 0.9349 - 619ms/epoch - 15ms/step\n",
      "Epoch 8/300\n",
      "41/41 - 1s - loss: 0.0066 - accuracy: 0.9374 - 638ms/epoch - 16ms/step\n",
      "Epoch 9/300\n",
      "41/41 - 1s - loss: 0.0062 - accuracy: 0.9394 - 639ms/epoch - 16ms/step\n",
      "Epoch 10/300\n",
      "41/41 - 1s - loss: 0.0061 - accuracy: 0.9391 - 630ms/epoch - 15ms/step\n",
      "Epoch 11/300\n",
      "41/41 - 1s - loss: 0.0061 - accuracy: 0.9381 - 637ms/epoch - 16ms/step\n",
      "Epoch 12/300\n",
      "41/41 - 1s - loss: 0.0062 - accuracy: 0.9356 - 638ms/epoch - 16ms/step\n",
      "Epoch 13/300\n",
      "41/41 - 1s - loss: 0.0061 - accuracy: 0.9356 - 630ms/epoch - 15ms/step\n",
      "Epoch 14/300\n",
      "41/41 - 1s - loss: 0.0060 - accuracy: 0.9413 - 637ms/epoch - 16ms/step\n",
      "Epoch 15/300\n",
      "41/41 - 1s - loss: 0.0061 - accuracy: 0.9418 - 629ms/epoch - 15ms/step\n",
      "Epoch 16/300\n",
      "41/41 - 1s - loss: 0.0059 - accuracy: 0.9381 - 641ms/epoch - 16ms/step\n",
      "Epoch 17/300\n",
      "41/41 - 1s - loss: 0.0059 - accuracy: 0.9369 - 634ms/epoch - 15ms/step\n",
      "Epoch 18/300\n",
      "41/41 - 1s - loss: 0.0059 - accuracy: 0.9436 - 632ms/epoch - 15ms/step\n",
      "Epoch 19/300\n",
      "41/41 - 1s - loss: 0.0057 - accuracy: 0.9384 - 631ms/epoch - 15ms/step\n",
      "Epoch 20/300\n",
      "41/41 - 1s - loss: 0.0057 - accuracy: 0.9413 - 627ms/epoch - 15ms/step\n",
      "Epoch 21/300\n",
      "41/41 - 1s - loss: 0.0057 - accuracy: 0.9426 - 630ms/epoch - 15ms/step\n",
      "Epoch 22/300\n",
      "41/41 - 1s - loss: 0.0058 - accuracy: 0.9426 - 642ms/epoch - 16ms/step\n",
      "Epoch 23/300\n",
      "41/41 - 1s - loss: 0.0055 - accuracy: 0.9384 - 625ms/epoch - 15ms/step\n",
      "Epoch 24/300\n",
      "41/41 - 1s - loss: 0.0057 - accuracy: 0.9349 - 635ms/epoch - 15ms/step\n",
      "Epoch 25/300\n",
      "41/41 - 1s - loss: 0.0056 - accuracy: 0.9473 - 628ms/epoch - 15ms/step\n",
      "Epoch 26/300\n",
      "41/41 - 1s - loss: 0.0056 - accuracy: 0.9431 - 626ms/epoch - 15ms/step\n",
      "Epoch 27/300\n",
      "41/41 - 1s - loss: 0.0056 - accuracy: 0.9394 - 633ms/epoch - 15ms/step\n",
      "Epoch 28/300\n",
      "41/41 - 1s - loss: 0.0056 - accuracy: 0.9408 - 624ms/epoch - 15ms/step\n",
      "Epoch 29/300\n",
      "41/41 - 1s - loss: 0.0057 - accuracy: 0.9428 - 632ms/epoch - 15ms/step\n",
      "Epoch 30/300\n",
      "41/41 - 1s - loss: 0.0055 - accuracy: 0.9483 - 634ms/epoch - 15ms/step\n",
      "Epoch 31/300\n",
      "41/41 - 1s - loss: 0.0056 - accuracy: 0.9374 - 636ms/epoch - 16ms/step\n",
      "Epoch 32/300\n",
      "41/41 - 1s - loss: 0.0055 - accuracy: 0.9488 - 643ms/epoch - 16ms/step\n",
      "Epoch 33/300\n",
      "41/41 - 1s - loss: 0.0055 - accuracy: 0.9369 - 636ms/epoch - 16ms/step\n",
      "Epoch 34/300\n",
      "41/41 - 1s - loss: 0.0056 - accuracy: 0.9470 - 630ms/epoch - 15ms/step\n",
      "Epoch 35/300\n",
      "41/41 - 1s - loss: 0.0056 - accuracy: 0.9399 - 648ms/epoch - 16ms/step\n",
      "Epoch 36/300\n",
      "41/41 - 1s - loss: 0.0055 - accuracy: 0.9431 - 657ms/epoch - 16ms/step\n",
      "Epoch 37/300\n",
      "41/41 - 1s - loss: 0.0056 - accuracy: 0.9450 - 656ms/epoch - 16ms/step\n",
      "Epoch 38/300\n",
      "41/41 - 1s - loss: 0.0055 - accuracy: 0.9411 - 639ms/epoch - 16ms/step\n",
      "Epoch 39/300\n",
      "41/41 - 1s - loss: 0.0054 - accuracy: 0.9480 - 629ms/epoch - 15ms/step\n",
      "Epoch 40/300\n",
      "41/41 - 1s - loss: 0.0055 - accuracy: 0.9455 - 641ms/epoch - 16ms/step\n",
      "Epoch 41/300\n",
      "41/41 - 1s - loss: 0.0055 - accuracy: 0.9441 - 634ms/epoch - 15ms/step\n",
      "Epoch 42/300\n",
      "41/41 - 1s - loss: 0.0055 - accuracy: 0.9401 - 628ms/epoch - 15ms/step\n",
      "Epoch 43/300\n",
      "41/41 - 1s - loss: 0.0055 - accuracy: 0.9448 - 637ms/epoch - 16ms/step\n",
      "Epoch 44/300\n",
      "41/41 - 1s - loss: 0.0055 - accuracy: 0.9406 - 629ms/epoch - 15ms/step\n",
      "Epoch 45/300\n",
      "41/41 - 1s - loss: 0.0053 - accuracy: 0.9448 - 636ms/epoch - 16ms/step\n",
      "Epoch 46/300\n",
      "41/41 - 1s - loss: 0.0054 - accuracy: 0.9468 - 631ms/epoch - 15ms/step\n",
      "Epoch 47/300\n",
      "41/41 - 1s - loss: 0.0055 - accuracy: 0.9431 - 631ms/epoch - 15ms/step\n",
      "Epoch 48/300\n",
      "41/41 - 1s - loss: 0.0054 - accuracy: 0.9436 - 645ms/epoch - 16ms/step\n",
      "Epoch 49/300\n",
      "41/41 - 1s - loss: 0.0055 - accuracy: 0.9421 - 636ms/epoch - 16ms/step\n",
      "Epoch 50/300\n",
      "41/41 - 1s - loss: 0.0054 - accuracy: 0.9455 - 615ms/epoch - 15ms/step\n",
      "Epoch 51/300\n",
      "41/41 - 1s - loss: 0.0054 - accuracy: 0.9465 - 630ms/epoch - 15ms/step\n",
      "Epoch 52/300\n",
      "41/41 - 1s - loss: 0.0054 - accuracy: 0.9344 - 637ms/epoch - 16ms/step\n",
      "Epoch 53/300\n",
      "41/41 - 1s - loss: 0.0055 - accuracy: 0.9443 - 628ms/epoch - 15ms/step\n",
      "Epoch 54/300\n",
      "41/41 - 1s - loss: 0.0054 - accuracy: 0.9436 - 644ms/epoch - 16ms/step\n",
      "Epoch 55/300\n",
      "41/41 - 1s - loss: 0.0056 - accuracy: 0.9384 - 637ms/epoch - 16ms/step\n",
      "Epoch 56/300\n",
      "41/41 - 1s - loss: 0.0054 - accuracy: 0.9433 - 634ms/epoch - 15ms/step\n",
      "Epoch 57/300\n",
      "41/41 - 1s - loss: 0.0054 - accuracy: 0.9470 - 635ms/epoch - 15ms/step\n",
      "Epoch 58/300\n",
      "41/41 - 1s - loss: 0.0055 - accuracy: 0.9413 - 628ms/epoch - 15ms/step\n",
      "Epoch 59/300\n",
      "41/41 - 1s - loss: 0.0054 - accuracy: 0.9416 - 628ms/epoch - 15ms/step\n",
      "Epoch 60/300\n",
      "41/41 - 1s - loss: 0.0055 - accuracy: 0.9460 - 629ms/epoch - 15ms/step\n",
      "Epoch 61/300\n",
      "41/41 - 1s - loss: 0.0054 - accuracy: 0.9401 - 622ms/epoch - 15ms/step\n",
      "Epoch 62/300\n",
      "41/41 - 1s - loss: 0.0055 - accuracy: 0.9374 - 622ms/epoch - 15ms/step\n",
      "Epoch 63/300\n",
      "41/41 - 1s - loss: 0.0054 - accuracy: 0.9421 - 622ms/epoch - 15ms/step\n",
      "Epoch 64/300\n",
      "41/41 - 1s - loss: 0.0054 - accuracy: 0.9433 - 642ms/epoch - 16ms/step\n",
      "Epoch 65/300\n",
      "41/41 - 1s - loss: 0.0054 - accuracy: 0.9403 - 628ms/epoch - 15ms/step\n",
      "Epoch 66/300\n",
      "41/41 - 1s - loss: 0.0054 - accuracy: 0.9450 - 627ms/epoch - 15ms/step\n",
      "Epoch 67/300\n",
      "41/41 - 1s - loss: 0.0053 - accuracy: 0.9436 - 629ms/epoch - 15ms/step\n",
      "Epoch 68/300\n",
      "41/41 - 1s - loss: 0.0054 - accuracy: 0.9376 - 627ms/epoch - 15ms/step\n",
      "Epoch 69/300\n",
      "41/41 - 1s - loss: 0.0054 - accuracy: 0.9438 - 611ms/epoch - 15ms/step\n",
      "Epoch 70/300\n",
      "41/41 - 1s - loss: 0.0054 - accuracy: 0.9413 - 629ms/epoch - 15ms/step\n",
      "Epoch 71/300\n",
      "41/41 - 1s - loss: 0.0054 - accuracy: 0.9426 - 639ms/epoch - 16ms/step\n",
      "Epoch 72/300\n",
      "41/41 - 1s - loss: 0.0054 - accuracy: 0.9473 - 621ms/epoch - 15ms/step\n",
      "Epoch 73/300\n",
      "41/41 - 1s - loss: 0.0052 - accuracy: 0.9411 - 635ms/epoch - 15ms/step\n",
      "Epoch 74/300\n",
      "41/41 - 1s - loss: 0.0054 - accuracy: 0.9515 - 629ms/epoch - 15ms/step\n",
      "Epoch 75/300\n",
      "41/41 - 1s - loss: 0.0053 - accuracy: 0.9473 - 631ms/epoch - 15ms/step\n",
      "Epoch 76/300\n",
      "41/41 - 1s - loss: 0.0055 - accuracy: 0.9475 - 627ms/epoch - 15ms/step\n",
      "Epoch 77/300\n",
      "41/41 - 1s - loss: 0.0053 - accuracy: 0.9460 - 620ms/epoch - 15ms/step\n",
      "Epoch 78/300\n",
      "41/41 - 1s - loss: 0.0053 - accuracy: 0.9480 - 627ms/epoch - 15ms/step\n",
      "Epoch 79/300\n",
      "41/41 - 1s - loss: 0.0053 - accuracy: 0.9450 - 621ms/epoch - 15ms/step\n",
      "Epoch 80/300\n",
      "41/41 - 1s - loss: 0.0054 - accuracy: 0.9423 - 641ms/epoch - 16ms/step\n",
      "Epoch 81/300\n",
      "41/41 - 1s - loss: 0.0054 - accuracy: 0.9413 - 627ms/epoch - 15ms/step\n",
      "Epoch 82/300\n",
      "41/41 - 1s - loss: 0.0053 - accuracy: 0.9480 - 648ms/epoch - 16ms/step\n",
      "Epoch 83/300\n",
      "41/41 - 1s - loss: 0.0054 - accuracy: 0.9403 - 625ms/epoch - 15ms/step\n",
      "Epoch 84/300\n",
      "41/41 - 1s - loss: 0.0053 - accuracy: 0.9399 - 676ms/epoch - 16ms/step\n",
      "Epoch 85/300\n",
      "41/41 - 1s - loss: 0.0052 - accuracy: 0.9490 - 631ms/epoch - 15ms/step\n",
      "Epoch 86/300\n",
      "41/41 - 1s - loss: 0.0053 - accuracy: 0.9408 - 625ms/epoch - 15ms/step\n",
      "Epoch 87/300\n",
      "41/41 - 1s - loss: 0.0053 - accuracy: 0.9455 - 646ms/epoch - 16ms/step\n",
      "Epoch 88/300\n",
      "41/41 - 1s - loss: 0.0053 - accuracy: 0.9418 - 628ms/epoch - 15ms/step\n",
      "Epoch 89/300\n",
      "41/41 - 1s - loss: 0.0053 - accuracy: 0.9512 - 629ms/epoch - 15ms/step\n",
      "Epoch 90/300\n",
      "41/41 - 1s - loss: 0.0054 - accuracy: 0.9443 - 618ms/epoch - 15ms/step\n",
      "Epoch 91/300\n",
      "41/41 - 1s - loss: 0.0052 - accuracy: 0.9455 - 622ms/epoch - 15ms/step\n",
      "Epoch 92/300\n",
      "41/41 - 1s - loss: 0.0053 - accuracy: 0.9455 - 634ms/epoch - 15ms/step\n",
      "Epoch 93/300\n",
      "41/41 - 1s - loss: 0.0053 - accuracy: 0.9423 - 619ms/epoch - 15ms/step\n",
      "Epoch 94/300\n",
      "41/41 - 1s - loss: 0.0053 - accuracy: 0.9460 - 625ms/epoch - 15ms/step\n",
      "Epoch 95/300\n",
      "41/41 - 1s - loss: 0.0052 - accuracy: 0.9448 - 624ms/epoch - 15ms/step\n",
      "Epoch 96/300\n",
      "41/41 - 1s - loss: 0.0052 - accuracy: 0.9470 - 630ms/epoch - 15ms/step\n",
      "Epoch 97/300\n",
      "41/41 - 1s - loss: 0.0052 - accuracy: 0.9431 - 632ms/epoch - 15ms/step\n",
      "Epoch 98/300\n",
      "41/41 - 1s - loss: 0.0052 - accuracy: 0.9473 - 622ms/epoch - 15ms/step\n",
      "Epoch 99/300\n",
      "41/41 - 1s - loss: 0.0052 - accuracy: 0.9436 - 624ms/epoch - 15ms/step\n",
      "Epoch 100/300\n",
      "41/41 - 1s - loss: 0.0053 - accuracy: 0.9389 - 639ms/epoch - 16ms/step\n",
      "Epoch 101/300\n",
      "41/41 - 1s - loss: 0.0053 - accuracy: 0.9416 - 631ms/epoch - 15ms/step\n",
      "Epoch 102/300\n",
      "41/41 - 1s - loss: 0.0053 - accuracy: 0.9421 - 623ms/epoch - 15ms/step\n",
      "Epoch 103/300\n",
      "41/41 - 1s - loss: 0.0052 - accuracy: 0.9483 - 636ms/epoch - 16ms/step\n",
      "Epoch 104/300\n",
      "41/41 - 1s - loss: 0.0052 - accuracy: 0.9455 - 619ms/epoch - 15ms/step\n",
      "Epoch 105/300\n",
      "41/41 - 1s - loss: 0.0053 - accuracy: 0.9473 - 633ms/epoch - 15ms/step\n",
      "Epoch 106/300\n",
      "41/41 - 1s - loss: 0.0053 - accuracy: 0.9431 - 624ms/epoch - 15ms/step\n",
      "Epoch 107/300\n",
      "41/41 - 1s - loss: 0.0052 - accuracy: 0.9416 - 650ms/epoch - 16ms/step\n",
      "Epoch 108/300\n",
      "41/41 - 1s - loss: 0.0053 - accuracy: 0.9500 - 633ms/epoch - 15ms/step\n",
      "Epoch 109/300\n",
      "41/41 - 1s - loss: 0.0052 - accuracy: 0.9483 - 625ms/epoch - 15ms/step\n",
      "Epoch 110/300\n",
      "41/41 - 1s - loss: 0.0053 - accuracy: 0.9379 - 636ms/epoch - 16ms/step\n",
      "Epoch 111/300\n",
      "41/41 - 1s - loss: 0.0053 - accuracy: 0.9473 - 628ms/epoch - 15ms/step\n",
      "Epoch 112/300\n",
      "41/41 - 1s - loss: 0.0051 - accuracy: 0.9470 - 628ms/epoch - 15ms/step\n",
      "Epoch 113/300\n",
      "41/41 - 1s - loss: 0.0052 - accuracy: 0.9401 - 630ms/epoch - 15ms/step\n",
      "Epoch 114/300\n",
      "41/41 - 1s - loss: 0.0053 - accuracy: 0.9485 - 620ms/epoch - 15ms/step\n",
      "Epoch 115/300\n",
      "41/41 - 1s - loss: 0.0052 - accuracy: 0.9446 - 620ms/epoch - 15ms/step\n",
      "Epoch 116/300\n",
      "41/41 - 1s - loss: 0.0052 - accuracy: 0.9418 - 629ms/epoch - 15ms/step\n",
      "Epoch 117/300\n",
      "41/41 - 1s - loss: 0.0053 - accuracy: 0.9436 - 621ms/epoch - 15ms/step\n",
      "Epoch 118/300\n",
      "41/41 - 1s - loss: 0.0052 - accuracy: 0.9436 - 629ms/epoch - 15ms/step\n",
      "Epoch 119/300\n",
      "41/41 - 1s - loss: 0.0052 - accuracy: 0.9411 - 635ms/epoch - 15ms/step\n",
      "Epoch 120/300\n",
      "41/41 - 1s - loss: 0.0052 - accuracy: 0.9433 - 624ms/epoch - 15ms/step\n",
      "Epoch 121/300\n",
      "41/41 - 1s - loss: 0.0051 - accuracy: 0.9441 - 633ms/epoch - 15ms/step\n",
      "Epoch 122/300\n",
      "41/41 - 1s - loss: 0.0052 - accuracy: 0.9438 - 619ms/epoch - 15ms/step\n",
      "Epoch 123/300\n",
      "41/41 - 1s - loss: 0.0052 - accuracy: 0.9438 - 629ms/epoch - 15ms/step\n",
      "Epoch 124/300\n",
      "41/41 - 1s - loss: 0.0052 - accuracy: 0.9421 - 615ms/epoch - 15ms/step\n",
      "Epoch 125/300\n",
      "41/41 - 1s - loss: 0.0052 - accuracy: 0.9468 - 619ms/epoch - 15ms/step\n",
      "Epoch 126/300\n",
      "41/41 - 1s - loss: 0.0052 - accuracy: 0.9418 - 636ms/epoch - 16ms/step\n",
      "Epoch 127/300\n",
      "41/41 - 1s - loss: 0.0053 - accuracy: 0.9443 - 630ms/epoch - 15ms/step\n",
      "Epoch 128/300\n",
      "41/41 - 1s - loss: 0.0051 - accuracy: 0.9453 - 632ms/epoch - 15ms/step\n",
      "Epoch 129/300\n",
      "41/41 - 1s - loss: 0.0051 - accuracy: 0.9401 - 632ms/epoch - 15ms/step\n",
      "Epoch 130/300\n",
      "41/41 - 1s - loss: 0.0053 - accuracy: 0.9468 - 631ms/epoch - 15ms/step\n",
      "Epoch 131/300\n",
      "41/41 - 1s - loss: 0.0050 - accuracy: 0.9463 - 643ms/epoch - 16ms/step\n",
      "Epoch 132/300\n",
      "41/41 - 1s - loss: 0.0051 - accuracy: 0.9423 - 676ms/epoch - 16ms/step\n",
      "Epoch 133/300\n",
      "41/41 - 1s - loss: 0.0053 - accuracy: 0.9485 - 659ms/epoch - 16ms/step\n",
      "Epoch 134/300\n",
      "41/41 - 1s - loss: 0.0051 - accuracy: 0.9468 - 648ms/epoch - 16ms/step\n",
      "Epoch 135/300\n",
      "41/41 - 1s - loss: 0.0051 - accuracy: 0.9446 - 637ms/epoch - 16ms/step\n",
      "Epoch 136/300\n",
      "41/41 - 1s - loss: 0.0052 - accuracy: 0.9453 - 655ms/epoch - 16ms/step\n",
      "Epoch 137/300\n",
      "41/41 - 1s - loss: 0.0051 - accuracy: 0.9436 - 650ms/epoch - 16ms/step\n",
      "Epoch 138/300\n",
      "41/41 - 1s - loss: 0.0052 - accuracy: 0.9443 - 818ms/epoch - 20ms/step\n",
      "Epoch 139/300\n",
      "41/41 - 1s - loss: 0.0053 - accuracy: 0.9428 - 708ms/epoch - 17ms/step\n",
      "Epoch 140/300\n",
      "41/41 - 1s - loss: 0.0051 - accuracy: 0.9389 - 653ms/epoch - 16ms/step\n",
      "Epoch 141/300\n",
      "41/41 - 1s - loss: 0.0052 - accuracy: 0.9431 - 647ms/epoch - 16ms/step\n",
      "Epoch 142/300\n",
      "41/41 - 1s - loss: 0.0051 - accuracy: 0.9438 - 662ms/epoch - 16ms/step\n",
      "Epoch 143/300\n",
      "41/41 - 1s - loss: 0.0051 - accuracy: 0.9423 - 647ms/epoch - 16ms/step\n",
      "Epoch 144/300\n",
      "41/41 - 1s - loss: 0.0051 - accuracy: 0.9438 - 629ms/epoch - 15ms/step\n",
      "Epoch 145/300\n",
      "41/41 - 1s - loss: 0.0052 - accuracy: 0.9473 - 636ms/epoch - 16ms/step\n",
      "Epoch 146/300\n",
      "41/41 - 1s - loss: 0.0052 - accuracy: 0.9453 - 642ms/epoch - 16ms/step\n",
      "Epoch 147/300\n",
      "41/41 - 1s - loss: 0.0051 - accuracy: 0.9421 - 638ms/epoch - 16ms/step\n",
      "Epoch 148/300\n",
      "41/41 - 1s - loss: 0.0051 - accuracy: 0.9443 - 661ms/epoch - 16ms/step\n",
      "Epoch 149/300\n",
      "41/41 - 1s - loss: 0.0053 - accuracy: 0.9431 - 649ms/epoch - 16ms/step\n",
      "Epoch 150/300\n",
      "41/41 - 1s - loss: 0.0052 - accuracy: 0.9458 - 969ms/epoch - 24ms/step\n",
      "Epoch 151/300\n",
      "41/41 - 1s - loss: 0.0051 - accuracy: 0.9441 - 632ms/epoch - 15ms/step\n",
      "Epoch 152/300\n",
      "41/41 - 1s - loss: 0.0051 - accuracy: 0.9423 - 640ms/epoch - 16ms/step\n",
      "Epoch 153/300\n",
      "41/41 - 1s - loss: 0.0052 - accuracy: 0.9428 - 635ms/epoch - 15ms/step\n",
      "Epoch 154/300\n",
      "41/41 - 1s - loss: 0.0052 - accuracy: 0.9478 - 646ms/epoch - 16ms/step\n",
      "Epoch 155/300\n",
      "41/41 - 1s - loss: 0.0051 - accuracy: 0.9448 - 645ms/epoch - 16ms/step\n",
      "Epoch 156/300\n",
      "41/41 - 1s - loss: 0.0051 - accuracy: 0.9416 - 613ms/epoch - 15ms/step\n",
      "Epoch 157/300\n",
      "41/41 - 1s - loss: 0.0052 - accuracy: 0.9500 - 635ms/epoch - 15ms/step\n",
      "Epoch 158/300\n",
      "41/41 - 1s - loss: 0.0052 - accuracy: 0.9438 - 629ms/epoch - 15ms/step\n",
      "Epoch 159/300\n",
      "41/41 - 1s - loss: 0.0051 - accuracy: 0.9465 - 620ms/epoch - 15ms/step\n",
      "Epoch 160/300\n",
      "41/41 - 1s - loss: 0.0051 - accuracy: 0.9416 - 617ms/epoch - 15ms/step\n",
      "Epoch 161/300\n",
      "41/41 - 1s - loss: 0.0050 - accuracy: 0.9413 - 631ms/epoch - 15ms/step\n",
      "Epoch 162/300\n",
      "41/41 - 1s - loss: 0.0051 - accuracy: 0.9475 - 632ms/epoch - 15ms/step\n",
      "Epoch 163/300\n",
      "41/41 - 1s - loss: 0.0052 - accuracy: 0.9453 - 657ms/epoch - 16ms/step\n",
      "Epoch 164/300\n",
      "41/41 - 1s - loss: 0.0050 - accuracy: 0.9438 - 899ms/epoch - 22ms/step\n",
      "Epoch 165/300\n",
      "41/41 - 1s - loss: 0.0051 - accuracy: 0.9500 - 625ms/epoch - 15ms/step\n",
      "Epoch 166/300\n",
      "41/41 - 1s - loss: 0.0052 - accuracy: 0.9396 - 639ms/epoch - 16ms/step\n",
      "Epoch 167/300\n",
      "41/41 - 1s - loss: 0.0049 - accuracy: 0.9455 - 636ms/epoch - 16ms/step\n",
      "Epoch 168/300\n",
      "41/41 - 1s - loss: 0.0051 - accuracy: 0.9478 - 633ms/epoch - 15ms/step\n",
      "Epoch 169/300\n",
      "41/41 - 1s - loss: 0.0050 - accuracy: 0.9448 - 652ms/epoch - 16ms/step\n",
      "Epoch 170/300\n",
      "41/41 - 1s - loss: 0.0050 - accuracy: 0.9495 - 644ms/epoch - 16ms/step\n",
      "Epoch 171/300\n",
      "41/41 - 1s - loss: 0.0051 - accuracy: 0.9394 - 640ms/epoch - 16ms/step\n",
      "Epoch 172/300\n",
      "41/41 - 1s - loss: 0.0050 - accuracy: 0.9488 - 634ms/epoch - 15ms/step\n",
      "Epoch 173/300\n",
      "41/41 - 1s - loss: 0.0050 - accuracy: 0.9453 - 634ms/epoch - 15ms/step\n",
      "Epoch 174/300\n",
      "41/41 - 1s - loss: 0.0050 - accuracy: 0.9450 - 633ms/epoch - 15ms/step\n",
      "Epoch 175/300\n",
      "41/41 - 1s - loss: 0.0051 - accuracy: 0.9483 - 633ms/epoch - 15ms/step\n",
      "Epoch 176/300\n",
      "41/41 - 1s - loss: 0.0050 - accuracy: 0.9411 - 622ms/epoch - 15ms/step\n",
      "Epoch 177/300\n",
      "41/41 - 1s - loss: 0.0051 - accuracy: 0.9455 - 673ms/epoch - 16ms/step\n",
      "Epoch 178/300\n",
      "41/41 - 1s - loss: 0.0051 - accuracy: 0.9433 - 855ms/epoch - 21ms/step\n",
      "Epoch 179/300\n",
      "41/41 - 1s - loss: 0.0050 - accuracy: 0.9465 - 641ms/epoch - 16ms/step\n",
      "Epoch 180/300\n",
      "41/41 - 1s - loss: 0.0051 - accuracy: 0.9505 - 639ms/epoch - 16ms/step\n",
      "Epoch 181/300\n",
      "41/41 - 1s - loss: 0.0051 - accuracy: 0.9483 - 639ms/epoch - 16ms/step\n",
      "Epoch 182/300\n",
      "41/41 - 1s - loss: 0.0049 - accuracy: 0.9478 - 625ms/epoch - 15ms/step\n",
      "Epoch 183/300\n",
      "41/41 - 1s - loss: 0.0051 - accuracy: 0.9488 - 650ms/epoch - 16ms/step\n",
      "Epoch 184/300\n",
      "41/41 - 1s - loss: 0.0050 - accuracy: 0.9480 - 629ms/epoch - 15ms/step\n",
      "Epoch 185/300\n",
      "41/41 - 1s - loss: 0.0049 - accuracy: 0.9460 - 642ms/epoch - 16ms/step\n",
      "Epoch 186/300\n",
      "41/41 - 1s - loss: 0.0052 - accuracy: 0.9408 - 631ms/epoch - 15ms/step\n",
      "Epoch 187/300\n",
      "41/41 - 1s - loss: 0.0050 - accuracy: 0.9428 - 626ms/epoch - 15ms/step\n",
      "Epoch 188/300\n",
      "41/41 - 1s - loss: 0.0049 - accuracy: 0.9495 - 675ms/epoch - 16ms/step\n",
      "Epoch 189/300\n",
      "41/41 - 1s - loss: 0.0051 - accuracy: 0.9453 - 690ms/epoch - 17ms/step\n",
      "Epoch 190/300\n",
      "41/41 - 1s - loss: 0.0050 - accuracy: 0.9438 - 699ms/epoch - 17ms/step\n",
      "Epoch 191/300\n",
      "41/41 - 1s - loss: 0.0050 - accuracy: 0.9394 - 711ms/epoch - 17ms/step\n",
      "Epoch 192/300\n",
      "41/41 - 1s - loss: 0.0050 - accuracy: 0.9485 - 705ms/epoch - 17ms/step\n",
      "Epoch 193/300\n",
      "41/41 - 1s - loss: 0.0050 - accuracy: 0.9413 - 705ms/epoch - 17ms/step\n",
      "Epoch 194/300\n",
      "41/41 - 1s - loss: 0.0051 - accuracy: 0.9438 - 686ms/epoch - 17ms/step\n",
      "Epoch 195/300\n",
      "41/41 - 1s - loss: 0.0050 - accuracy: 0.9475 - 702ms/epoch - 17ms/step\n",
      "Epoch 196/300\n",
      "41/41 - 1s - loss: 0.0049 - accuracy: 0.9418 - 678ms/epoch - 17ms/step\n",
      "Epoch 197/300\n",
      "41/41 - 1s - loss: 0.0050 - accuracy: 0.9463 - 688ms/epoch - 17ms/step\n",
      "Epoch 198/300\n",
      "41/41 - 1s - loss: 0.0050 - accuracy: 0.9517 - 767ms/epoch - 19ms/step\n",
      "Epoch 199/300\n",
      "41/41 - 1s - loss: 0.0050 - accuracy: 0.9450 - 688ms/epoch - 17ms/step\n",
      "Epoch 200/300\n",
      "41/41 - 1s - loss: 0.0050 - accuracy: 0.9443 - 687ms/epoch - 17ms/step\n",
      "Epoch 201/300\n",
      "41/41 - 1s - loss: 0.0051 - accuracy: 0.9480 - 674ms/epoch - 16ms/step\n",
      "Epoch 202/300\n",
      "41/41 - 1s - loss: 0.0051 - accuracy: 0.9426 - 668ms/epoch - 16ms/step\n",
      "Epoch 203/300\n",
      "41/41 - 1s - loss: 0.0049 - accuracy: 0.9468 - 651ms/epoch - 16ms/step\n",
      "Epoch 204/300\n",
      "41/41 - 1s - loss: 0.0050 - accuracy: 0.9438 - 653ms/epoch - 16ms/step\n",
      "Epoch 205/300\n",
      "41/41 - 1s - loss: 0.0049 - accuracy: 0.9460 - 636ms/epoch - 16ms/step\n",
      "Epoch 206/300\n",
      "41/41 - 1s - loss: 0.0050 - accuracy: 0.9431 - 628ms/epoch - 15ms/step\n",
      "Epoch 207/300\n",
      "41/41 - 1s - loss: 0.0050 - accuracy: 0.9428 - 631ms/epoch - 15ms/step\n",
      "Epoch 208/300\n",
      "41/41 - 1s - loss: 0.0050 - accuracy: 0.9480 - 627ms/epoch - 15ms/step\n",
      "Epoch 209/300\n",
      "41/41 - 1s - loss: 0.0049 - accuracy: 0.9465 - 637ms/epoch - 16ms/step\n",
      "Epoch 210/300\n",
      "41/41 - 1s - loss: 0.0050 - accuracy: 0.9418 - 634ms/epoch - 15ms/step\n",
      "Epoch 211/300\n",
      "41/41 - 1s - loss: 0.0050 - accuracy: 0.9475 - 613ms/epoch - 15ms/step\n",
      "Epoch 212/300\n",
      "41/41 - 1s - loss: 0.0051 - accuracy: 0.9413 - 628ms/epoch - 15ms/step\n",
      "Epoch 213/300\n",
      "41/41 - 1s - loss: 0.0050 - accuracy: 0.9478 - 632ms/epoch - 15ms/step\n",
      "Epoch 214/300\n",
      "41/41 - 1s - loss: 0.0050 - accuracy: 0.9431 - 648ms/epoch - 16ms/step\n",
      "Epoch 215/300\n",
      "41/41 - 1s - loss: 0.0051 - accuracy: 0.9465 - 642ms/epoch - 16ms/step\n",
      "Epoch 216/300\n",
      "41/41 - 1s - loss: 0.0050 - accuracy: 0.9488 - 626ms/epoch - 15ms/step\n",
      "Epoch 217/300\n",
      "41/41 - 1s - loss: 0.0050 - accuracy: 0.9500 - 630ms/epoch - 15ms/step\n",
      "Epoch 218/300\n",
      "41/41 - 1s - loss: 0.0050 - accuracy: 0.9458 - 639ms/epoch - 16ms/step\n",
      "Epoch 219/300\n",
      "41/41 - 1s - loss: 0.0050 - accuracy: 0.9446 - 621ms/epoch - 15ms/step\n",
      "Epoch 220/300\n",
      "41/41 - 1s - loss: 0.0050 - accuracy: 0.9448 - 631ms/epoch - 15ms/step\n",
      "Epoch 221/300\n",
      "41/41 - 1s - loss: 0.0051 - accuracy: 0.9428 - 626ms/epoch - 15ms/step\n",
      "Epoch 222/300\n",
      "41/41 - 1s - loss: 0.0050 - accuracy: 0.9446 - 641ms/epoch - 16ms/step\n",
      "Epoch 223/300\n",
      "41/41 - 1s - loss: 0.0051 - accuracy: 0.9478 - 637ms/epoch - 16ms/step\n",
      "Epoch 224/300\n",
      "41/41 - 1s - loss: 0.0049 - accuracy: 0.9493 - 656ms/epoch - 16ms/step\n",
      "Epoch 225/300\n",
      "41/41 - 1s - loss: 0.0050 - accuracy: 0.9450 - 674ms/epoch - 16ms/step\n",
      "Epoch 226/300\n",
      "41/41 - 1s - loss: 0.0049 - accuracy: 0.9428 - 637ms/epoch - 16ms/step\n",
      "Epoch 227/300\n",
      "41/41 - 1s - loss: 0.0050 - accuracy: 0.9396 - 627ms/epoch - 15ms/step\n",
      "Epoch 228/300\n",
      "41/41 - 1s - loss: 0.0050 - accuracy: 0.9455 - 636ms/epoch - 16ms/step\n",
      "Epoch 229/300\n",
      "41/41 - 1s - loss: 0.0050 - accuracy: 0.9458 - 631ms/epoch - 15ms/step\n",
      "Epoch 230/300\n",
      "41/41 - 1s - loss: 0.0050 - accuracy: 0.9507 - 644ms/epoch - 16ms/step\n",
      "Epoch 231/300\n",
      "41/41 - 1s - loss: 0.0050 - accuracy: 0.9443 - 651ms/epoch - 16ms/step\n",
      "Epoch 232/300\n",
      "41/41 - 1s - loss: 0.0050 - accuracy: 0.9416 - 649ms/epoch - 16ms/step\n",
      "Epoch 233/300\n",
      "41/41 - 1s - loss: 0.0049 - accuracy: 0.9480 - 623ms/epoch - 15ms/step\n",
      "Epoch 234/300\n",
      "41/41 - 1s - loss: 0.0050 - accuracy: 0.9475 - 633ms/epoch - 15ms/step\n",
      "Epoch 235/300\n",
      "41/41 - 1s - loss: 0.0049 - accuracy: 0.9468 - 625ms/epoch - 15ms/step\n",
      "Epoch 236/300\n",
      "41/41 - 1s - loss: 0.0049 - accuracy: 0.9483 - 637ms/epoch - 16ms/step\n",
      "Epoch 237/300\n",
      "41/41 - 1s - loss: 0.0051 - accuracy: 0.9446 - 674ms/epoch - 16ms/step\n",
      "Epoch 238/300\n",
      "41/41 - 1s - loss: 0.0050 - accuracy: 0.9470 - 621ms/epoch - 15ms/step\n",
      "Epoch 239/300\n",
      "41/41 - 1s - loss: 0.0049 - accuracy: 0.9488 - 642ms/epoch - 16ms/step\n",
      "Epoch 240/300\n",
      "41/41 - 1s - loss: 0.0050 - accuracy: 0.9478 - 644ms/epoch - 16ms/step\n",
      "Epoch 241/300\n",
      "41/41 - 1s - loss: 0.0049 - accuracy: 0.9448 - 640ms/epoch - 16ms/step\n",
      "Epoch 242/300\n",
      "41/41 - 1s - loss: 0.0048 - accuracy: 0.9485 - 639ms/epoch - 16ms/step\n",
      "Epoch 243/300\n",
      "41/41 - 1s - loss: 0.0049 - accuracy: 0.9488 - 642ms/epoch - 16ms/step\n",
      "Epoch 244/300\n",
      "41/41 - 1s - loss: 0.0049 - accuracy: 0.9436 - 627ms/epoch - 15ms/step\n",
      "Epoch 245/300\n",
      "41/41 - 1s - loss: 0.0050 - accuracy: 0.9408 - 628ms/epoch - 15ms/step\n",
      "Epoch 246/300\n",
      "41/41 - 1s - loss: 0.0051 - accuracy: 0.9441 - 640ms/epoch - 16ms/step\n",
      "Epoch 247/300\n",
      "41/41 - 1s - loss: 0.0048 - accuracy: 0.9493 - 627ms/epoch - 15ms/step\n",
      "Epoch 248/300\n",
      "41/41 - 1s - loss: 0.0048 - accuracy: 0.9500 - 627ms/epoch - 15ms/step\n",
      "Epoch 249/300\n",
      "41/41 - 1s - loss: 0.0049 - accuracy: 0.9386 - 626ms/epoch - 15ms/step\n",
      "Epoch 250/300\n",
      "41/41 - 1s - loss: 0.0049 - accuracy: 0.9426 - 631ms/epoch - 15ms/step\n",
      "Epoch 251/300\n",
      "41/41 - 1s - loss: 0.0050 - accuracy: 0.9453 - 627ms/epoch - 15ms/step\n",
      "Epoch 252/300\n",
      "41/41 - 1s - loss: 0.0048 - accuracy: 0.9448 - 616ms/epoch - 15ms/step\n",
      "Epoch 253/300\n",
      "41/41 - 1s - loss: 0.0049 - accuracy: 0.9443 - 629ms/epoch - 15ms/step\n",
      "Epoch 254/300\n",
      "41/41 - 1s - loss: 0.0049 - accuracy: 0.9376 - 622ms/epoch - 15ms/step\n",
      "Epoch 255/300\n",
      "41/41 - 1s - loss: 0.0049 - accuracy: 0.9515 - 630ms/epoch - 15ms/step\n",
      "Epoch 256/300\n",
      "41/41 - 1s - loss: 0.0049 - accuracy: 0.9483 - 638ms/epoch - 16ms/step\n",
      "Epoch 257/300\n",
      "41/41 - 1s - loss: 0.0049 - accuracy: 0.9535 - 622ms/epoch - 15ms/step\n",
      "Epoch 258/300\n",
      "41/41 - 1s - loss: 0.0050 - accuracy: 0.9522 - 626ms/epoch - 15ms/step\n",
      "Epoch 259/300\n",
      "41/41 - 1s - loss: 0.0049 - accuracy: 0.9483 - 627ms/epoch - 15ms/step\n",
      "Epoch 260/300\n",
      "41/41 - 1s - loss: 0.0049 - accuracy: 0.9441 - 618ms/epoch - 15ms/step\n",
      "Epoch 261/300\n",
      "41/41 - 1s - loss: 0.0049 - accuracy: 0.9490 - 642ms/epoch - 16ms/step\n",
      "Epoch 262/300\n",
      "41/41 - 1s - loss: 0.0049 - accuracy: 0.9490 - 639ms/epoch - 16ms/step\n",
      "Epoch 263/300\n",
      "41/41 - 1s - loss: 0.0050 - accuracy: 0.9468 - 625ms/epoch - 15ms/step\n",
      "Epoch 264/300\n",
      "41/41 - 1s - loss: 0.0050 - accuracy: 0.9478 - 628ms/epoch - 15ms/step\n",
      "Epoch 265/300\n",
      "41/41 - 1s - loss: 0.0049 - accuracy: 0.9446 - 625ms/epoch - 15ms/step\n",
      "Epoch 266/300\n",
      "41/41 - 1s - loss: 0.0049 - accuracy: 0.9465 - 622ms/epoch - 15ms/step\n",
      "Epoch 267/300\n",
      "41/41 - 1s - loss: 0.0049 - accuracy: 0.9438 - 619ms/epoch - 15ms/step\n",
      "Epoch 268/300\n",
      "41/41 - 1s - loss: 0.0049 - accuracy: 0.9470 - 629ms/epoch - 15ms/step\n",
      "Epoch 269/300\n",
      "41/41 - 1s - loss: 0.0049 - accuracy: 0.9517 - 637ms/epoch - 16ms/step\n",
      "Epoch 270/300\n",
      "41/41 - 1s - loss: 0.0049 - accuracy: 0.9438 - 619ms/epoch - 15ms/step\n",
      "Epoch 271/300\n",
      "41/41 - 1s - loss: 0.0049 - accuracy: 0.9483 - 631ms/epoch - 15ms/step\n",
      "Epoch 272/300\n",
      "41/41 - 1s - loss: 0.0049 - accuracy: 0.9421 - 649ms/epoch - 16ms/step\n",
      "Epoch 273/300\n",
      "41/41 - 1s - loss: 0.0050 - accuracy: 0.9436 - 662ms/epoch - 16ms/step\n",
      "Epoch 274/300\n",
      "41/41 - 1s - loss: 0.0049 - accuracy: 0.9436 - 633ms/epoch - 15ms/step\n",
      "Epoch 275/300\n",
      "41/41 - 1s - loss: 0.0048 - accuracy: 0.9465 - 635ms/epoch - 15ms/step\n",
      "Epoch 276/300\n",
      "41/41 - 1s - loss: 0.0050 - accuracy: 0.9443 - 620ms/epoch - 15ms/step\n",
      "Epoch 277/300\n",
      "41/41 - 1s - loss: 0.0049 - accuracy: 0.9498 - 672ms/epoch - 16ms/step\n",
      "Epoch 278/300\n",
      "41/41 - 1s - loss: 0.0048 - accuracy: 0.9446 - 649ms/epoch - 16ms/step\n",
      "Epoch 279/300\n",
      "41/41 - 1s - loss: 0.0048 - accuracy: 0.9450 - 630ms/epoch - 15ms/step\n",
      "Epoch 280/300\n",
      "41/41 - 1s - loss: 0.0049 - accuracy: 0.9431 - 629ms/epoch - 15ms/step\n",
      "Epoch 281/300\n",
      "41/41 - 1s - loss: 0.0048 - accuracy: 0.9443 - 632ms/epoch - 15ms/step\n",
      "Epoch 282/300\n",
      "41/41 - 1s - loss: 0.0048 - accuracy: 0.9530 - 634ms/epoch - 15ms/step\n",
      "Epoch 283/300\n",
      "41/41 - 1s - loss: 0.0048 - accuracy: 0.9416 - 633ms/epoch - 15ms/step\n",
      "Epoch 284/300\n",
      "41/41 - 1s - loss: 0.0049 - accuracy: 0.9465 - 620ms/epoch - 15ms/step\n",
      "Epoch 285/300\n",
      "41/41 - 1s - loss: 0.0049 - accuracy: 0.9458 - 627ms/epoch - 15ms/step\n",
      "Epoch 286/300\n",
      "41/41 - 1s - loss: 0.0049 - accuracy: 0.9460 - 623ms/epoch - 15ms/step\n",
      "Epoch 287/300\n",
      "41/41 - 1s - loss: 0.0050 - accuracy: 0.9473 - 636ms/epoch - 16ms/step\n",
      "Epoch 288/300\n",
      "41/41 - 1s - loss: 0.0048 - accuracy: 0.9433 - 640ms/epoch - 16ms/step\n",
      "Epoch 289/300\n",
      "41/41 - 1s - loss: 0.0048 - accuracy: 0.9455 - 627ms/epoch - 15ms/step\n",
      "Epoch 290/300\n",
      "41/41 - 1s - loss: 0.0048 - accuracy: 0.9453 - 631ms/epoch - 15ms/step\n",
      "Epoch 291/300\n",
      "41/41 - 1s - loss: 0.0049 - accuracy: 0.9463 - 650ms/epoch - 16ms/step\n",
      "Epoch 292/300\n",
      "41/41 - 1s - loss: 0.0048 - accuracy: 0.9483 - 619ms/epoch - 15ms/step\n",
      "Epoch 293/300\n",
      "41/41 - 1s - loss: 0.0048 - accuracy: 0.9490 - 624ms/epoch - 15ms/step\n",
      "Epoch 294/300\n",
      "41/41 - 1s - loss: 0.0049 - accuracy: 0.9453 - 644ms/epoch - 16ms/step\n",
      "Epoch 295/300\n",
      "41/41 - 1s - loss: 0.0048 - accuracy: 0.9460 - 628ms/epoch - 15ms/step\n",
      "Epoch 296/300\n",
      "41/41 - 1s - loss: 0.0049 - accuracy: 0.9455 - 636ms/epoch - 16ms/step\n",
      "Epoch 297/300\n",
      "41/41 - 1s - loss: 0.0049 - accuracy: 0.9510 - 630ms/epoch - 15ms/step\n",
      "Epoch 298/300\n",
      "41/41 - 1s - loss: 0.0049 - accuracy: 0.9460 - 630ms/epoch - 15ms/step\n",
      "Epoch 299/300\n",
      "41/41 - 1s - loss: 0.0049 - accuracy: 0.9441 - 634ms/epoch - 15ms/step\n",
      "Epoch 300/300\n",
      "41/41 - 1s - loss: 0.0049 - accuracy: 0.9525 - 622ms/epoch - 15ms/step\n"
     ]
    },
    {
     "data": {
      "text/plain": [
       "<keras.callbacks.History at 0x7faa82146350>"
      ]
     },
     "execution_count": 38,
     "metadata": {},
     "output_type": "execute_result"
    }
   ],
   "source": [
    "model.fit(x=X, y=y, batch_size=100, epochs=300, verbose=2)"
   ]
  },
  {
   "cell_type": "code",
   "execution_count": 39,
   "metadata": {
    "colab": {
     "base_uri": "https://localhost:8080/",
     "height": 356
    },
    "id": "Jt2Btz2P_9zO",
    "outputId": "31686e10-01d4-47a8-f18b-99816d47e033"
   },
   "outputs": [
    {
     "name": "stderr",
     "output_type": "stream",
     "text": [
      "/usr/local/lib/python3.7/dist-packages/pandas/core/frame.py:4913: SettingWithCopyWarning: \n",
      "A value is trying to be set on a copy of a slice from a DataFrame\n",
      "\n",
      "See the caveats in the documentation: https://pandas.pydata.org/pandas-docs/stable/user_guide/indexing.html#returning-a-view-versus-a-copy\n",
      "  errors=errors,\n"
     ]
    },
    {
     "data": {
      "text/html": [
       "\n",
       "  <div id=\"df-97126bc1-93e2-49c7-b5a5-2b9fba30dedc\">\n",
       "    <div class=\"colab-df-container\">\n",
       "      <div>\n",
       "<style scoped>\n",
       "    .dataframe tbody tr th:only-of-type {\n",
       "        vertical-align: middle;\n",
       "    }\n",
       "\n",
       "    .dataframe tbody tr th {\n",
       "        vertical-align: top;\n",
       "    }\n",
       "\n",
       "    .dataframe thead th {\n",
       "        text-align: right;\n",
       "    }\n",
       "</style>\n",
       "<table border=\"1\" class=\"dataframe\">\n",
       "  <thead>\n",
       "    <tr style=\"text-align: right;\">\n",
       "      <th></th>\n",
       "      <th>A</th>\n",
       "      <th>B</th>\n",
       "      <th>C</th>\n",
       "      <th>D</th>\n",
       "      <th>E</th>\n",
       "      <th>F</th>\n",
       "    </tr>\n",
       "  </thead>\n",
       "  <tbody>\n",
       "    <tr>\n",
       "      <th>4039</th>\n",
       "      <td>1</td>\n",
       "      <td>14</td>\n",
       "      <td>15</td>\n",
       "      <td>17</td>\n",
       "      <td>28</td>\n",
       "      <td>37</td>\n",
       "    </tr>\n",
       "    <tr>\n",
       "      <th>4040</th>\n",
       "      <td>3</td>\n",
       "      <td>13</td>\n",
       "      <td>21</td>\n",
       "      <td>24</td>\n",
       "      <td>27</td>\n",
       "      <td>35</td>\n",
       "    </tr>\n",
       "    <tr>\n",
       "      <th>4041</th>\n",
       "      <td>17</td>\n",
       "      <td>19</td>\n",
       "      <td>21</td>\n",
       "      <td>23</td>\n",
       "      <td>25</td>\n",
       "      <td>34</td>\n",
       "    </tr>\n",
       "    <tr>\n",
       "      <th>4042</th>\n",
       "      <td>9</td>\n",
       "      <td>16</td>\n",
       "      <td>17</td>\n",
       "      <td>21</td>\n",
       "      <td>26</td>\n",
       "      <td>29</td>\n",
       "    </tr>\n",
       "    <tr>\n",
       "      <th>4043</th>\n",
       "      <td>1</td>\n",
       "      <td>4</td>\n",
       "      <td>5</td>\n",
       "      <td>24</td>\n",
       "      <td>31</td>\n",
       "      <td>32</td>\n",
       "    </tr>\n",
       "    <tr>\n",
       "      <th>4044</th>\n",
       "      <td>1</td>\n",
       "      <td>8</td>\n",
       "      <td>18</td>\n",
       "      <td>25</td>\n",
       "      <td>29</td>\n",
       "      <td>30</td>\n",
       "    </tr>\n",
       "    <tr>\n",
       "      <th>4045</th>\n",
       "      <td>3</td>\n",
       "      <td>4</td>\n",
       "      <td>5</td>\n",
       "      <td>15</td>\n",
       "      <td>24</td>\n",
       "      <td>33</td>\n",
       "    </tr>\n",
       "  </tbody>\n",
       "</table>\n",
       "</div>\n",
       "      <button class=\"colab-df-convert\" onclick=\"convertToInteractive('df-97126bc1-93e2-49c7-b5a5-2b9fba30dedc')\"\n",
       "              title=\"Convert this dataframe to an interactive table.\"\n",
       "              style=\"display:none;\">\n",
       "        \n",
       "  <svg xmlns=\"http://www.w3.org/2000/svg\" height=\"24px\"viewBox=\"0 0 24 24\"\n",
       "       width=\"24px\">\n",
       "    <path d=\"M0 0h24v24H0V0z\" fill=\"none\"/>\n",
       "    <path d=\"M18.56 5.44l.94 2.06.94-2.06 2.06-.94-2.06-.94-.94-2.06-.94 2.06-2.06.94zm-11 1L8.5 8.5l.94-2.06 2.06-.94-2.06-.94L8.5 2.5l-.94 2.06-2.06.94zm10 10l.94 2.06.94-2.06 2.06-.94-2.06-.94-.94-2.06-.94 2.06-2.06.94z\"/><path d=\"M17.41 7.96l-1.37-1.37c-.4-.4-.92-.59-1.43-.59-.52 0-1.04.2-1.43.59L10.3 9.45l-7.72 7.72c-.78.78-.78 2.05 0 2.83L4 21.41c.39.39.9.59 1.41.59.51 0 1.02-.2 1.41-.59l7.78-7.78 2.81-2.81c.8-.78.8-2.07 0-2.86zM5.41 20L4 18.59l7.72-7.72 1.47 1.35L5.41 20z\"/>\n",
       "  </svg>\n",
       "      </button>\n",
       "      \n",
       "  <style>\n",
       "    .colab-df-container {\n",
       "      display:flex;\n",
       "      flex-wrap:wrap;\n",
       "      gap: 12px;\n",
       "    }\n",
       "\n",
       "    .colab-df-convert {\n",
       "      background-color: #E8F0FE;\n",
       "      border: none;\n",
       "      border-radius: 50%;\n",
       "      cursor: pointer;\n",
       "      display: none;\n",
       "      fill: #1967D2;\n",
       "      height: 32px;\n",
       "      padding: 0 0 0 0;\n",
       "      width: 32px;\n",
       "    }\n",
       "\n",
       "    .colab-df-convert:hover {\n",
       "      background-color: #E2EBFA;\n",
       "      box-shadow: 0px 1px 2px rgba(60, 64, 67, 0.3), 0px 1px 3px 1px rgba(60, 64, 67, 0.15);\n",
       "      fill: #174EA6;\n",
       "    }\n",
       "\n",
       "    [theme=dark] .colab-df-convert {\n",
       "      background-color: #3B4455;\n",
       "      fill: #D2E3FC;\n",
       "    }\n",
       "\n",
       "    [theme=dark] .colab-df-convert:hover {\n",
       "      background-color: #434B5C;\n",
       "      box-shadow: 0px 1px 3px 1px rgba(0, 0, 0, 0.15);\n",
       "      filter: drop-shadow(0px 1px 2px rgba(0, 0, 0, 0.3));\n",
       "      fill: #FFFFFF;\n",
       "    }\n",
       "  </style>\n",
       "\n",
       "      <script>\n",
       "        const buttonEl =\n",
       "          document.querySelector('#df-97126bc1-93e2-49c7-b5a5-2b9fba30dedc button.colab-df-convert');\n",
       "        buttonEl.style.display =\n",
       "          google.colab.kernel.accessAllowed ? 'block' : 'none';\n",
       "\n",
       "        async function convertToInteractive(key) {\n",
       "          const element = document.querySelector('#df-97126bc1-93e2-49c7-b5a5-2b9fba30dedc');\n",
       "          const dataTable =\n",
       "            await google.colab.kernel.invokeFunction('convertToInteractive',\n",
       "                                                     [key], {});\n",
       "          if (!dataTable) return;\n",
       "\n",
       "          const docLinkHtml = 'Like what you see? Visit the ' +\n",
       "            '<a target=\"_blank\" href=https://colab.research.google.com/notebooks/data_table.ipynb>data table notebook</a>'\n",
       "            + ' to learn more about interactive tables.';\n",
       "          element.innerHTML = '';\n",
       "          dataTable['output_type'] = 'display_data';\n",
       "          await google.colab.output.renderOutput(dataTable, element);\n",
       "          const docLink = document.createElement('div');\n",
       "          docLink.innerHTML = docLinkHtml;\n",
       "          element.appendChild(docLink);\n",
       "        }\n",
       "      </script>\n",
       "    </div>\n",
       "  </div>\n",
       "  "
      ],
      "text/plain": [
       "       A   B   C   D   E   F\n",
       "4039   1  14  15  17  28  37\n",
       "4040   3  13  21  24  27  35\n",
       "4041  17  19  21  23  25  34\n",
       "4042   9  16  17  21  26  29\n",
       "4043   1   4   5  24  31  32\n",
       "4044   1   8  18  25  29  30\n",
       "4045   3   4   5  15  24  33"
      ]
     },
     "execution_count": 39,
     "metadata": {},
     "output_type": "execute_result"
    }
   ],
   "source": [
    "to_predict = df.tail(8)\n",
    "to_predict.drop([to_predict.index[-1]],axis=0, inplace=True)\n",
    "to_predict"
   ]
  },
  {
   "cell_type": "code",
   "execution_count": 40,
   "metadata": {
    "colab": {
     "base_uri": "https://localhost:8080/"
    },
    "id": "YG4U8by7_9zO",
    "outputId": "83ccc062-a0c4-48ee-c967-432220c71518"
   },
   "outputs": [
    {
     "data": {
      "text/plain": [
       "array([[ 1, 14, 15, 17, 28, 37],\n",
       "       [ 3, 13, 21, 24, 27, 35],\n",
       "       [17, 19, 21, 23, 25, 34],\n",
       "       [ 9, 16, 17, 21, 26, 29],\n",
       "       [ 1,  4,  5, 24, 31, 32],\n",
       "       [ 1,  8, 18, 25, 29, 30],\n",
       "       [ 3,  4,  5, 15, 24, 33]])"
      ]
     },
     "execution_count": 40,
     "metadata": {},
     "output_type": "execute_result"
    }
   ],
   "source": [
    "to_predict = np.array(to_predict)\n",
    "to_predict"
   ]
  },
  {
   "cell_type": "code",
   "execution_count": 41,
   "metadata": {
    "id": "H5frjfOID1el"
   },
   "outputs": [],
   "source": [
    "scaled_to_predict = scaler.transform(to_predict)"
   ]
  },
  {
   "cell_type": "code",
   "execution_count": 42,
   "metadata": {
    "colab": {
     "base_uri": "https://localhost:8080/"
    },
    "id": "hD3arI-s_9zO",
    "outputId": "3df0e67b-bdaa-4547-b337-ded71564fa09"
   },
   "outputs": [
    {
     "name": "stdout",
     "output_type": "stream",
     "text": [
      "The predicted numbers in the last lottery game are: [ 5  9 12 20 23 35]\n"
     ]
    }
   ],
   "source": [
    "y_pred = model.predict(np.array([scaled_to_predict]))\n",
    "print(\"The predicted numbers in the last lottery game are:\", scaler.inverse_transform(y_pred).astype(int)[0])"
   ]
  },
  {
   "cell_type": "code",
   "execution_count": 43,
   "metadata": {
    "colab": {
     "base_uri": "https://localhost:8080/"
    },
    "id": "Rz6nBsxV_9zP",
    "outputId": "7fb44850-05f4-433c-fa39-d56fd36f740d"
   },
   "outputs": [
    {
     "name": "stdout",
     "output_type": "stream",
     "text": [
      "The actual numbers in the last lottery game were: [ 6 10 13 20 23 35]\n"
     ]
    }
   ],
   "source": [
    "prediction = df.tail(1)\n",
    "prediction = np.array(prediction)\n",
    "print(\"The actual numbers in the last lottery game were:\", prediction[0])"
   ]
  }
 ],
 "metadata": {
  "accelerator": "GPU",
  "colab": {
   "collapsed_sections": [],
   "name": "Copy of Israeli Lottery.ipynb",
   "provenance": []
  },
  "kernelspec": {
   "display_name": "Python 3",
   "language": "python",
   "name": "python3"
  },
  "language_info": {
   "codemirror_mode": {
    "name": "ipython",
    "version": 3
   },
   "file_extension": ".py",
   "mimetype": "text/x-python",
   "name": "python",
   "nbconvert_exporter": "python",
   "pygments_lexer": "ipython3",
   "version": "3.11.0"
  }
 },
 "nbformat": 4,
 "nbformat_minor": 1
}
